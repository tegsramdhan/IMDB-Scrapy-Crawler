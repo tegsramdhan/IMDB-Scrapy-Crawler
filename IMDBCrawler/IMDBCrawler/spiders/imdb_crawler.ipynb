{
 "cells": [
  {
   "cell_type": "code",
   "execution_count": 1,
   "source": [
    "from scrapy.spiders import CrawlSpider, Rule\r\n",
    "from scrapy.linkextractors import LinkExtractor"
   ],
   "outputs": [],
   "metadata": {}
  },
  {
   "cell_type": "code",
   "execution_count": 2,
   "source": [
    "class CrawlingSpider( CrawlSpider ):\r\n",
    "    name = \"imdbCrawler\"\r\n",
    "    allowed_domains = ['imdb.com']\r\n",
    "    start_urls = [\"https://www.imdb.com/what-to-watch/popular/?ref_=watch_tpks_tab\"]\r\n",
    "\r\n",
    "    rules = (\r\n",
    "        Rule(LinkExtractor(allow= \"what-to-watch\")),\r\n",
    "    )"
   ],
   "outputs": [],
   "metadata": {}
  }
 ],
 "metadata": {
  "orig_nbformat": 4,
  "language_info": {
   "name": "python",
   "version": "3.9.12",
   "mimetype": "text/x-python",
   "codemirror_mode": {
    "name": "ipython",
    "version": 3
   },
   "pygments_lexer": "ipython3",
   "nbconvert_exporter": "python",
   "file_extension": ".py"
  },
  "kernelspec": {
   "name": "python3",
   "display_name": "Python 3.9.12 64-bit ('default39': conda)"
  },
  "interpreter": {
   "hash": "bb98f42dc3f7faafe59bbc2fba3ab4ef1aa2484a58277c100bbe4af9f9520037"
  }
 },
 "nbformat": 4,
 "nbformat_minor": 2
}